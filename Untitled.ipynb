{
 "cells": [
  {
   "cell_type": "code",
   "execution_count": 1,
   "id": "54d902e1",
   "metadata": {},
   "outputs": [],
   "source": [
    "import pandas as pd"
   ]
  },
  {
   "cell_type": "code",
   "execution_count": 5,
   "id": "8c93bfe2",
   "metadata": {},
   "outputs": [],
   "source": [
    "import os\n",
    "# os.chdir('')"
   ]
  },
  {
   "cell_type": "code",
   "execution_count": 3,
   "id": "ef3724a3",
   "metadata": {},
   "outputs": [],
   "source": [
    "ctg=pd.read_csv('Cardiotocography.csv')"
   ]
  },
  {
   "cell_type": "code",
   "execution_count": 4,
   "id": "8db027c9",
   "metadata": {},
   "outputs": [
    {
     "data": {
      "text/html": [
       "<div>\n",
       "<style scoped>\n",
       "    .dataframe tbody tr th:only-of-type {\n",
       "        vertical-align: middle;\n",
       "    }\n",
       "\n",
       "    .dataframe tbody tr th {\n",
       "        vertical-align: top;\n",
       "    }\n",
       "\n",
       "    .dataframe thead th {\n",
       "        text-align: right;\n",
       "    }\n",
       "</style>\n",
       "<table border=\"1\" class=\"dataframe\">\n",
       "  <thead>\n",
       "    <tr style=\"text-align: right;\">\n",
       "      <th></th>\n",
       "      <th>LB</th>\n",
       "      <th>AC</th>\n",
       "      <th>FM</th>\n",
       "      <th>UC</th>\n",
       "      <th>DL</th>\n",
       "      <th>DS</th>\n",
       "      <th>DP</th>\n",
       "      <th>ASTV</th>\n",
       "      <th>MSTV</th>\n",
       "      <th>ALTV</th>\n",
       "      <th>...</th>\n",
       "      <th>Min</th>\n",
       "      <th>Max</th>\n",
       "      <th>Nmax</th>\n",
       "      <th>Nzeros</th>\n",
       "      <th>Mode</th>\n",
       "      <th>Mean</th>\n",
       "      <th>Median</th>\n",
       "      <th>Variance</th>\n",
       "      <th>Tendency</th>\n",
       "      <th>NSP</th>\n",
       "    </tr>\n",
       "  </thead>\n",
       "  <tbody>\n",
       "    <tr>\n",
       "      <th>0</th>\n",
       "      <td>120</td>\n",
       "      <td>0.000000</td>\n",
       "      <td>0.0</td>\n",
       "      <td>0.000000</td>\n",
       "      <td>0.000000</td>\n",
       "      <td>0.0</td>\n",
       "      <td>0.0</td>\n",
       "      <td>73</td>\n",
       "      <td>0.5</td>\n",
       "      <td>43</td>\n",
       "      <td>...</td>\n",
       "      <td>62</td>\n",
       "      <td>126</td>\n",
       "      <td>2</td>\n",
       "      <td>0</td>\n",
       "      <td>120</td>\n",
       "      <td>137</td>\n",
       "      <td>121</td>\n",
       "      <td>73</td>\n",
       "      <td>1</td>\n",
       "      <td>2</td>\n",
       "    </tr>\n",
       "    <tr>\n",
       "      <th>1</th>\n",
       "      <td>132</td>\n",
       "      <td>0.006380</td>\n",
       "      <td>0.0</td>\n",
       "      <td>0.006380</td>\n",
       "      <td>0.003190</td>\n",
       "      <td>0.0</td>\n",
       "      <td>0.0</td>\n",
       "      <td>17</td>\n",
       "      <td>2.1</td>\n",
       "      <td>0</td>\n",
       "      <td>...</td>\n",
       "      <td>68</td>\n",
       "      <td>198</td>\n",
       "      <td>6</td>\n",
       "      <td>1</td>\n",
       "      <td>141</td>\n",
       "      <td>136</td>\n",
       "      <td>140</td>\n",
       "      <td>12</td>\n",
       "      <td>0</td>\n",
       "      <td>1</td>\n",
       "    </tr>\n",
       "    <tr>\n",
       "      <th>2</th>\n",
       "      <td>133</td>\n",
       "      <td>0.003322</td>\n",
       "      <td>0.0</td>\n",
       "      <td>0.008306</td>\n",
       "      <td>0.003322</td>\n",
       "      <td>0.0</td>\n",
       "      <td>0.0</td>\n",
       "      <td>16</td>\n",
       "      <td>2.1</td>\n",
       "      <td>0</td>\n",
       "      <td>...</td>\n",
       "      <td>68</td>\n",
       "      <td>198</td>\n",
       "      <td>5</td>\n",
       "      <td>1</td>\n",
       "      <td>141</td>\n",
       "      <td>135</td>\n",
       "      <td>138</td>\n",
       "      <td>13</td>\n",
       "      <td>0</td>\n",
       "      <td>1</td>\n",
       "    </tr>\n",
       "    <tr>\n",
       "      <th>3</th>\n",
       "      <td>134</td>\n",
       "      <td>0.002561</td>\n",
       "      <td>0.0</td>\n",
       "      <td>0.007682</td>\n",
       "      <td>0.002561</td>\n",
       "      <td>0.0</td>\n",
       "      <td>0.0</td>\n",
       "      <td>16</td>\n",
       "      <td>2.4</td>\n",
       "      <td>0</td>\n",
       "      <td>...</td>\n",
       "      <td>53</td>\n",
       "      <td>170</td>\n",
       "      <td>11</td>\n",
       "      <td>0</td>\n",
       "      <td>137</td>\n",
       "      <td>134</td>\n",
       "      <td>137</td>\n",
       "      <td>13</td>\n",
       "      <td>1</td>\n",
       "      <td>1</td>\n",
       "    </tr>\n",
       "    <tr>\n",
       "      <th>4</th>\n",
       "      <td>132</td>\n",
       "      <td>0.006515</td>\n",
       "      <td>0.0</td>\n",
       "      <td>0.008143</td>\n",
       "      <td>0.000000</td>\n",
       "      <td>0.0</td>\n",
       "      <td>0.0</td>\n",
       "      <td>16</td>\n",
       "      <td>2.4</td>\n",
       "      <td>0</td>\n",
       "      <td>...</td>\n",
       "      <td>53</td>\n",
       "      <td>170</td>\n",
       "      <td>9</td>\n",
       "      <td>0</td>\n",
       "      <td>137</td>\n",
       "      <td>136</td>\n",
       "      <td>138</td>\n",
       "      <td>11</td>\n",
       "      <td>1</td>\n",
       "      <td>1</td>\n",
       "    </tr>\n",
       "  </tbody>\n",
       "</table>\n",
       "<p>5 rows × 22 columns</p>\n",
       "</div>"
      ],
      "text/plain": [
       "    LB        AC   FM        UC        DL   DS   DP  ASTV  MSTV  ALTV  ...  \\\n",
       "0  120  0.000000  0.0  0.000000  0.000000  0.0  0.0    73   0.5    43  ...   \n",
       "1  132  0.006380  0.0  0.006380  0.003190  0.0  0.0    17   2.1     0  ...   \n",
       "2  133  0.003322  0.0  0.008306  0.003322  0.0  0.0    16   2.1     0  ...   \n",
       "3  134  0.002561  0.0  0.007682  0.002561  0.0  0.0    16   2.4     0  ...   \n",
       "4  132  0.006515  0.0  0.008143  0.000000  0.0  0.0    16   2.4     0  ...   \n",
       "\n",
       "   Min  Max  Nmax  Nzeros  Mode  Mean  Median  Variance  Tendency  NSP  \n",
       "0   62  126     2       0   120   137     121        73         1    2  \n",
       "1   68  198     6       1   141   136     140        12         0    1  \n",
       "2   68  198     5       1   141   135     138        13         0    1  \n",
       "3   53  170    11       0   137   134     137        13         1    1  \n",
       "4   53  170     9       0   137   136     138        11         1    1  \n",
       "\n",
       "[5 rows x 22 columns]"
      ]
     },
     "execution_count": 4,
     "metadata": {},
     "output_type": "execute_result"
    }
   ],
   "source": [
    "ctg.head()"
   ]
  },
  {
   "cell_type": "code",
   "execution_count": 8,
   "id": "7d894170",
   "metadata": {},
   "outputs": [],
   "source": [
    "from sklearn.decomposition import PCA\n",
    "from sklearn.preprocessing import StandardScaler"
   ]
  },
  {
   "cell_type": "code",
   "execution_count": 22,
   "id": "7e31edb2",
   "metadata": {},
   "outputs": [],
   "source": [
    "pca=PCA(n_components=6)\n",
    "sc=StandardScaler()"
   ]
  },
  {
   "cell_type": "code",
   "execution_count": 23,
   "id": "40ca96dd",
   "metadata": {},
   "outputs": [],
   "source": [
    "X_std=sc.fit_transform(ctg.drop(columns='NSP'))"
   ]
  },
  {
   "cell_type": "code",
   "execution_count": 24,
   "id": "46a8a0b5",
   "metadata": {},
   "outputs": [
    {
     "data": {
      "text/plain": [
       "PCA(n_components=6)"
      ]
     },
     "execution_count": 24,
     "metadata": {},
     "output_type": "execute_result"
    }
   ],
   "source": [
    "pca.fit(X_std)"
   ]
  },
  {
   "cell_type": "code",
   "execution_count": 25,
   "id": "72e717fd",
   "metadata": {},
   "outputs": [
    {
     "data": {
      "text/plain": [
       "array([[-0.2240804 ,  0.0428074 ,  0.08050282,  0.1275821 ,  0.27936203,\n",
       "         0.05851728,  0.20398176, -0.14488021,  0.31595348, -0.21682198,\n",
       "        -0.0083881 ,  0.31301969, -0.33168872,  0.1331412 ,  0.25060485,\n",
       "         0.12305903, -0.26286184, -0.30920798, -0.27638082,  0.29063052,\n",
       "        -0.07065839],\n",
       "       [ 0.27630176,  0.27888055,  0.03866896,  0.02458826,  0.01959378,\n",
       "        -0.08006078, -0.11419785, -0.12299653,  0.13575565, -0.14138404,\n",
       "         0.09655624,  0.2836811 , -0.14348092,  0.37949164,  0.2406634 ,\n",
       "         0.12715931,  0.36637455,  0.32490334,  0.37539249,  0.10075995,\n",
       "         0.2259412 ],\n",
       "       [ 0.3418922 , -0.1867356 ,  0.09992163, -0.11290557,  0.20346846,\n",
       "         0.07373636,  0.33548962,  0.49209474, -0.07430515,  0.31983927,\n",
       "        -0.43283143,  0.06272121,  0.03100351,  0.1872372 ,  0.10552584,\n",
       "        -0.00348759,  0.02493196, -0.02121993,  0.06681959,  0.26561883,\n",
       "        -0.04010209],\n",
       "       [ 0.06022019, -0.43642227, -0.00182786, -0.30086585,  0.07821979,\n",
       "         0.03749862, -0.09612128,  0.09425273, -0.04312758,  0.21460994,\n",
       "         0.37770274,  0.10548998, -0.28216974, -0.23581804,  0.15819524,\n",
       "         0.2949385 , -0.01822395, -0.05307495, -0.04344635, -0.09448814,\n",
       "         0.47626068],\n",
       "       [-0.08203596,  0.10174996,  0.63479087, -0.45886608, -0.3497768 ,\n",
       "        -0.21536398,  0.28059348, -0.04867863, -0.06910523,  0.01165639,\n",
       "         0.18424383,  0.05885945, -0.03823633,  0.06479185,  0.09892512,\n",
       "        -0.20924051, -0.04439895,  0.01865515, -0.04018383, -0.0252588 ,\n",
       "        -0.11597553],\n",
       "       [-0.04166298,  0.12983854, -0.17423959, -0.36596719, -0.17643876,\n",
       "         0.69310814, -0.17538023,  0.0933106 , -0.05255388,  0.03258943,\n",
       "         0.14056179,  0.09227618,  0.02263453,  0.23761261,  0.07513738,\n",
       "         0.18068921, -0.10912108,  0.04224425, -0.01443805, -0.03387074,\n",
       "        -0.35172381]])"
      ]
     },
     "execution_count": 25,
     "metadata": {},
     "output_type": "execute_result"
    }
   ],
   "source": [
    "pca.components_"
   ]
  },
  {
   "cell_type": "code",
   "execution_count": 26,
   "id": "7367a4cc",
   "metadata": {},
   "outputs": [
    {
     "data": {
      "text/plain": [
       "(2126, 22)"
      ]
     },
     "execution_count": 26,
     "metadata": {},
     "output_type": "execute_result"
    }
   ],
   "source": [
    "ctg.shape"
   ]
  },
  {
   "cell_type": "code",
   "execution_count": 27,
   "id": "4e08e0fe",
   "metadata": {},
   "outputs": [
    {
     "data": {
      "text/plain": [
       "15.14432085657701"
      ]
     },
     "execution_count": 27,
     "metadata": {},
     "output_type": "execute_result"
    }
   ],
   "source": [
    "pca.explained_variance_.sum()"
   ]
  },
  {
   "cell_type": "code",
   "execution_count": 28,
   "id": "8368dd2b",
   "metadata": {},
   "outputs": [
    {
     "data": {
      "text/plain": [
       "array([6.06613694, 3.51059685, 1.82624718, 1.49869689, 1.21825697,\n",
       "       1.02438603])"
      ]
     },
     "execution_count": 28,
     "metadata": {},
     "output_type": "execute_result"
    }
   ],
   "source": [
    "pca.explained_variance_"
   ]
  },
  {
   "cell_type": "code",
   "execution_count": 29,
   "id": "df040364",
   "metadata": {},
   "outputs": [
    {
     "data": {
      "text/plain": [
       "array([0.28872779, 0.16709265, 0.08692325, 0.07133295, 0.05798495,\n",
       "       0.04875734])"
      ]
     },
     "execution_count": 29,
     "metadata": {},
     "output_type": "execute_result"
    }
   ],
   "source": [
    "pca.explained_variance_ratio_"
   ]
  },
  {
   "cell_type": "code",
   "execution_count": 30,
   "id": "cc8b1f66",
   "metadata": {},
   "outputs": [],
   "source": [
    "final_data = pd.DataFrame(pca.fit_transform(X_std),columns = ['PC' + str(i) for i in range(1,7)])"
   ]
  },
  {
   "cell_type": "code",
   "execution_count": 31,
   "id": "f7be112f",
   "metadata": {},
   "outputs": [],
   "source": [
    "final_data['NSP']=ctg['NSP']"
   ]
  },
  {
   "cell_type": "code",
   "execution_count": 32,
   "id": "30edee20",
   "metadata": {},
   "outputs": [
    {
     "data": {
      "text/html": [
       "<div>\n",
       "<style scoped>\n",
       "    .dataframe tbody tr th:only-of-type {\n",
       "        vertical-align: middle;\n",
       "    }\n",
       "\n",
       "    .dataframe tbody tr th {\n",
       "        vertical-align: top;\n",
       "    }\n",
       "\n",
       "    .dataframe thead th {\n",
       "        text-align: right;\n",
       "    }\n",
       "</style>\n",
       "<table border=\"1\" class=\"dataframe\">\n",
       "  <thead>\n",
       "    <tr style=\"text-align: right;\">\n",
       "      <th></th>\n",
       "      <th>PC1</th>\n",
       "      <th>PC2</th>\n",
       "      <th>PC3</th>\n",
       "      <th>PC4</th>\n",
       "      <th>PC5</th>\n",
       "      <th>PC6</th>\n",
       "      <th>NSP</th>\n",
       "    </tr>\n",
       "  </thead>\n",
       "  <tbody>\n",
       "    <tr>\n",
       "      <th>0</th>\n",
       "      <td>-0.260678</td>\n",
       "      <td>-2.561700</td>\n",
       "      <td>1.280879</td>\n",
       "      <td>1.832715</td>\n",
       "      <td>0.402412</td>\n",
       "      <td>-0.240927</td>\n",
       "      <td>2</td>\n",
       "    </tr>\n",
       "    <tr>\n",
       "      <th>1</th>\n",
       "      <td>1.989242</td>\n",
       "      <td>2.266549</td>\n",
       "      <td>-1.107938</td>\n",
       "      <td>-0.584517</td>\n",
       "      <td>-0.312185</td>\n",
       "      <td>0.621133</td>\n",
       "      <td>1</td>\n",
       "    </tr>\n",
       "    <tr>\n",
       "      <th>2</th>\n",
       "      <td>2.015691</td>\n",
       "      <td>1.998412</td>\n",
       "      <td>-1.284007</td>\n",
       "      <td>-0.277867</td>\n",
       "      <td>-0.646425</td>\n",
       "      <td>0.308512</td>\n",
       "      <td>1</td>\n",
       "    </tr>\n",
       "    <tr>\n",
       "      <th>3</th>\n",
       "      <td>2.157733</td>\n",
       "      <td>2.101173</td>\n",
       "      <td>-2.188734</td>\n",
       "      <td>1.658684</td>\n",
       "      <td>0.022104</td>\n",
       "      <td>-0.443698</td>\n",
       "      <td>1</td>\n",
       "    </tr>\n",
       "    <tr>\n",
       "      <th>4</th>\n",
       "      <td>1.781391</td>\n",
       "      <td>2.161913</td>\n",
       "      <td>-2.492769</td>\n",
       "      <td>0.765791</td>\n",
       "      <td>0.206286</td>\n",
       "      <td>-0.328544</td>\n",
       "      <td>1</td>\n",
       "    </tr>\n",
       "  </tbody>\n",
       "</table>\n",
       "</div>"
      ],
      "text/plain": [
       "        PC1       PC2       PC3       PC4       PC5       PC6  NSP\n",
       "0 -0.260678 -2.561700  1.280879  1.832715  0.402412 -0.240927    2\n",
       "1  1.989242  2.266549 -1.107938 -0.584517 -0.312185  0.621133    1\n",
       "2  2.015691  1.998412 -1.284007 -0.277867 -0.646425  0.308512    1\n",
       "3  2.157733  2.101173 -2.188734  1.658684  0.022104 -0.443698    1\n",
       "4  1.781391  2.161913 -2.492769  0.765791  0.206286 -0.328544    1"
      ]
     },
     "execution_count": 32,
     "metadata": {},
     "output_type": "execute_result"
    }
   ],
   "source": [
    "final_data.head()"
   ]
  },
  {
   "cell_type": "code",
   "execution_count": null,
   "id": "ec5f084f",
   "metadata": {},
   "outputs": [],
   "source": []
  }
 ],
 "metadata": {
  "kernelspec": {
   "display_name": "Python 3",
   "language": "python",
   "name": "python3"
  },
  "language_info": {
   "codemirror_mode": {
    "name": "ipython",
    "version": 3
   },
   "file_extension": ".py",
   "mimetype": "text/x-python",
   "name": "python",
   "nbconvert_exporter": "python",
   "pygments_lexer": "ipython3",
   "version": "3.8.8"
  }
 },
 "nbformat": 4,
 "nbformat_minor": 5
}
