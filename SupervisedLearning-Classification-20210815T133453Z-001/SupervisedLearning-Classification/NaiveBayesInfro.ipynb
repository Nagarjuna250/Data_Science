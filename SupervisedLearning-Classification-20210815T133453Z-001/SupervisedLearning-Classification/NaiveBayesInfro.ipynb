{
 "cells": [
  {
   "cell_type": "markdown",
   "metadata": {},
   "source": [
    "# Naive Bayes\n",
    "\n",
    "**One of the most popular algo based calculating probabilities and conditional probabilities. It is based on Bayes theorem**\n",
    "\n",
    "*Bayesian*\n",
    "\n",
    "***P (c | X) = P(X | c) * P(c) / P(X)***\n",
    "\n",
    "\n",
    "* ***P (c | X)*** - Posterior probability - Prob. of c being true given X is true. c is our target class and X is predictor variable.\n",
    "\n",
    "X - X1, X2, X3, ... ..., Xn\n",
    "\n",
    "* ***P(X | c)*** - Likelihood - Prob. of X being true given c is true.\n",
    "\n",
    "* ***P(c)*** - Prior prob. - Prob. of c being true\n",
    "\n",
    "* ***P(X)*** - Prob. of X being true"
   ]
  },
  {
   "cell_type": "markdown",
   "metadata": {},
   "source": [
    "* Conditional Prob. - Prob. of an event A given other event has occured. e.g. what is the prob. it will rain given its cloudy?\n",
    "\n",
    "* JOint prob. - measure that calculates liokelihood of 2 or more events at the same time"
   ]
  },
  {
   "cell_type": "markdown",
   "metadata": {},
   "source": [
    "# whether to play golf or not"
   ]
  },
  {
   "cell_type": "markdown",
   "metadata": {},
   "source": [
    "<img src=\"img/naivebayes.png\">"
   ]
  },
  {
   "cell_type": "markdown",
   "metadata": {},
   "source": [
    "### Frequency table"
   ]
  },
  {
   "cell_type": "markdown",
   "metadata": {},
   "source": [
    "<img src=\"img/freq-table.png\">"
   ]
  },
  {
   "cell_type": "markdown",
   "metadata": {},
   "source": [
    "## Ratio table"
   ]
  },
  {
   "cell_type": "markdown",
   "metadata": {},
   "source": [
    "<img src=\"img/ratio-table.png\">"
   ]
  },
  {
   "cell_type": "markdown",
   "metadata": {},
   "source": [
    "# X = { outlook : sunny, temperature : mild, humidity : normal, windy : false }"
   ]
  },
  {
   "cell_type": "markdown",
   "metadata": {},
   "source": [
    "# P(yes | X) i.e. play golf given X"
   ]
  },
  {
   "cell_type": "markdown",
   "metadata": {},
   "source": [
    "* P (yes) - 9/14\n",
    "* P (outlook = sunny | yes) = 2/9\n",
    "* P (temperature = mild | yes) = 4/9\n",
    "* P (humidity = normal | yes) = 6/9\n",
    "* P (wundy = fakse | yes) = 6/9"
   ]
  },
  {
   "cell_type": "code",
   "execution_count": 3,
   "metadata": {},
   "outputs": [
    {
     "data": {
      "text/plain": [
       "0.028218694885361564"
      ]
     },
     "execution_count": 3,
     "metadata": {},
     "output_type": "execute_result"
    }
   ],
   "source": [
    "# P(yes | X)\n",
    "\n",
    "9/14 * 2/9 * 4/9 * 6/9 * 6/9"
   ]
  },
  {
   "cell_type": "markdown",
   "metadata": {},
   "source": [
    "# P(yes | X) i.e. play golf given X = 0.02822\n",
    "# P(no | X) i.e. not play golf given X = 0.0069"
   ]
  },
  {
   "cell_type": "markdown",
   "metadata": {},
   "source": [
    "### Since P(yes | X) > P(No | X) - we predict its right time to play golf."
   ]
  },
  {
   "cell_type": "markdown",
   "metadata": {},
   "source": [
    "### Type of Naive Bayes\n",
    "\n",
    "* Multinomial Naive Bayes - assumption that P(X|y) will follow multinomial distribution. Mainly used in text classification.\n",
    "\n",
    "* Gaussian NB - assumes that continuous values are sampled from gaussian / normal distribution."
   ]
  },
  {
   "cell_type": "markdown",
   "metadata": {},
   "source": [
    "# these distributions will be like heights measured in some city: basically data will be distributed in two ranges....(two humps shape of the curve) \n"
   ]
  },
  {
   "cell_type": "markdown",
   "metadata": {},
   "source": [
    "# Great Job everyone !"
   ]
  }
 ],
 "metadata": {
  "kernelspec": {
   "display_name": "Python 3",
   "language": "python",
   "name": "python3"
  },
  "language_info": {
   "codemirror_mode": {
    "name": "ipython",
    "version": 3
   },
   "file_extension": ".py",
   "mimetype": "text/x-python",
   "name": "python",
   "nbconvert_exporter": "python",
   "pygments_lexer": "ipython3",
   "version": "3.8.3"
  }
 },
 "nbformat": 4,
 "nbformat_minor": 4
}
